{
 "cells": [
  {
   "cell_type": "markdown",
   "metadata": {},
   "source": [
    "# Ray Tracing for Tilted Flat Mirrors\n",
    "\n",
    "This notebook goes through the formulation of the ray-tracing equations used at the LCLS Skywalker project to automate alignment of the Hard X-Ray Offset Mirrors (HOMS) to two points on imagers downstream of the mirrors. Below is a schematic that shows the various mirrors contained in the FEE."
   ]
  },
  {
   "cell_type": "markdown",
   "metadata": {},
   "source": [
    "<img src=fee.png>"
   ]
  },
  {
   "cell_type": "markdown",
   "metadata": {},
   "source": [
    "Of these mirrors only M1H and M2H will be used in the derivation but in principle should be applicable to any flat two mirror system including the soft x-ray offset mirrors. In addition to the mirrors, equations for imagers will be derived as well and are located right before M1H, between M1H and M2H and two after M2H. The coordinate system used in this notebook is shown on the diagram, with the $z$ axis going along the beamline, the $x$ axis running in the horizontal direction parallel to the ground and the $y$ axis running vertically off the ground. For all the calulations made, the small angle approximation ($tan(x) \\approx x$) was used as the range of the mirrors is only several microradians from the nominal poisition of 0.00\n",
    "\n",
    "At a high level the beam, mirrors and imagers can be represented as lines in space, where the point of refelction/contact would just be the intersection point of these lines. Knowing this, one can go through the beamline, component by component and calculate the expected $x$ position, $z$ position and angle of the beam at the component or any point in between. To actually do the derivation, the python package [sympy](http://www.sympy.org/en/index.html) was used. It is a package to perform symbolic mathematics within the python langauge.\n",
    "\n",
    "We begin by first importing sympy and enabling nice printing."
   ]
  },
  {
   "cell_type": "code",
   "execution_count": 34,
   "metadata": {
    "collapsed": true
   },
   "outputs": [],
   "source": [
    "import sympy as sp\n",
    "sp.init_printing() "
   ]
  },
  {
   "cell_type": "markdown",
   "metadata": {},
   "source": [
    "Start by initializing the symbols pertaining to the beamline components."
   ]
  },
  {
   "cell_type": "code",
   "execution_count": 2,
   "metadata": {
    "collapsed": false
   },
   "outputs": [],
   "source": [
    "dp1hx, dp1hz      = sp.symbols(\"D^x_P1H D^z_P1H\")        # X and Z position at the center of P1H\n",
    "dm1hx, dm1hz      = sp.symbols(\"D^x_M1H D^z_M1H\")        # X and Z position at the center of M1H\n",
    "dp2hx, dp2hz      = sp.symbols(\"D^x_P2H D^z_P2H\")        # X and Z position at the center of P2H\n",
    "dm2hx, dm2hz      = sp.symbols(\"D^x_M2H D^z_M2H\")        # X and Z position at the center of M2H\n",
    "dp3hx, dp3hz      = sp.symbols(\"D^x_P3H D^z_P3H\")        # X and Z position at the center of P3H\n",
    "ddg3x, ddg3z      = sp.symbols(\"D^x_DG3 D^z_DG3\")        # X and Z position at the center of DG3\n",
    "a1, a2            = sp.symbols(\"alpha_M1H alpha_M2H\")    # M1H and M2H angle wrt z-axis"
   ]
  },
  {
   "cell_type": "markdown",
   "metadata": {},
   "source": [
    "And also the beam at all the various components"
   ]
  },
  {
   "cell_type": "code",
   "execution_count": 3,
   "metadata": {
    "collapsed": true
   },
   "outputs": [],
   "source": [
    "x0, xp0           = sp.symbols(\"x_0 x^'_0\")              # X and angle of the beam at the source\n",
    "xpm1h, xpm2h      = sp.symbols(\"x^'_M1H x^'_M2H\")        # Reflection angle after M1H and M2H\n",
    "xp1h, zp1h, xpp1h = sp.symbols(\"x_P1H z_P2H x^'_P1H\")    # X, Z and angle of the beam at P1H\n",
    "xm1h, zm1h, xpm1h = sp.symbols(\"x_M1H z_M1H x^'_M1H\")    # X, Z and angle of the beam at M1H\n",
    "xp2h, zp2h, xpp2h = sp.symbols(\"x_P2H z_P2H x^'_P2H\")    # X, Z and angle of the beam at P2H\n",
    "xm2h, zm2h, xpm2h = sp.symbols(\"x_M2H z_M2H x^'_M2H\")    # X, Z and angle of the beam at M2H\n",
    "xp3h, zp3h, xpp3h = sp.symbols(\"x_P3H z_P3H x^'_P3H\")    # X, Z and angle of the beam at P3H\n",
    "xdg3, zdg3, xpdg3 = sp.symbols(\"x_DG3 z_DG3 x^'_DG3\")    # X, Z and angle of the beam at DG3"
   ]
  },
  {
   "cell_type": "markdown",
   "metadata": {},
   "source": [
    "## P1H"
   ]
  },
  {
   "cell_type": "code",
   "execution_count": 4,
   "metadata": {
    "collapsed": false
   },
   "outputs": [],
   "source": [
    "# Standard line equation\n",
    "xp1h = x0 + dp1hx * xp0\n",
    "\n",
    "# Position in z is just the position of the imager\n",
    "zp1h = dp1hz\n",
    "\n",
    "# Angle is the same as the initial angle of the beam\n",
    "xpp1h = xp0"
   ]
  },
  {
   "cell_type": "markdown",
   "metadata": {},
   "source": [
    "And then from here we can print the equations we get"
   ]
  },
  {
   "cell_type": "code",
   "execution_count": 5,
   "metadata": {
    "collapsed": false
   },
   "outputs": [
    {
     "data": {
      "image/png": "[encoded data removed]",
      "text/latex": [
       "$$x_{P1H} = D^{x}_{P1H} x^{'}_{0} + x_{0}$$"
      ],
      "text/plain": [
       "x_P1H = D_P1H__x⋅x_0__' + x₀"
      ]
     },
     "execution_count": 5,
     "metadata": {},
     "output_type": "execute_result"
    }
   ],
   "source": [
    "# X Position of the beam at P1H\n",
    "sp.relational.Eq(sp.symbols(\"x_P1H\"), xp1h)"
   ]
  },
  {
   "cell_type": "code",
   "execution_count": 6,
   "metadata": {
    "collapsed": false
   },
   "outputs": [
    {
     "data": {
      "image/png": "[encoded data removed]",
      "text/latex": [
       "$$z_{P1H} = D^{z}_{P1H}$$"
      ],
      "text/plain": [
       "z_P1H = D_P1H__z"
      ]
     },
     "execution_count": 6,
     "metadata": {},
     "output_type": "execute_result"
    }
   ],
   "source": [
    "# Z Position of the beam at P1H\n",
    "sp.relational.Eq(sp.symbols(\"z_P1H\"), zp1h)"
   ]
  },
  {
   "cell_type": "code",
   "execution_count": 7,
   "metadata": {
    "collapsed": false
   },
   "outputs": [
    {
     "data": {
      "image/png": "[encoded data removed]",
      "text/latex": [
       "$$x^{'}_{P1H} = x^{'}_{0}$$"
      ],
      "text/plain": [
       "x_P1H__' = x_0__'"
      ]
     },
     "execution_count": 7,
     "metadata": {},
     "output_type": "execute_result"
    }
   ],
   "source": [
    "# Angle of the beam at P1H\n",
    "sp.relational.Eq(sp.symbols(\"x^'_P1H\"), xpp1h)"
   ]
  },
  {
   "cell_type": "markdown",
   "metadata": {},
   "source": [
    "## M1H\n",
    "\n",
    "To solve for M1H, we can characterize the mirror as being a line with a slope alpha_M1H, and then find the intersection between the beam and this line.\n",
    "\n",
    "Starting with point slope form, move the terms to one side and then solve using sympy."
   ]
  },
  {
   "cell_type": "code",
   "execution_count": 8,
   "metadata": {
    "collapsed": false
   },
   "outputs": [],
   "source": [
    "# Declare generic x and z variables to solve for\n",
    "x, z = sp.symbols(\"x z\")\n",
    "\n",
    "# Using point slope eq for a line to get line of M1H (point is dm1hz, dm1hx)\n",
    "m1h_ln = a1 * (z - dm1hz) + dm1hx - x\n",
    "\n",
    "# Solve for x and grab the only element in the returned solution list\n",
    "m1h_ln_x = sp.solve(m1h_ln, x)[0]\n",
    "\n",
    "# Use a standard line equation to characterize the beam\n",
    "beam_ln = x0 + z * xp0\n",
    "\n",
    "# Setting them equal to each other and move to one side then solve for z\n",
    "zm1h = sp.solve(m1h_ln_x - beam_ln, z)[0]\n",
    "\n",
    "# Plugging this z into the eq for the beam line to get x point of intersection then simplifying\n",
    "xm1h = sp.simplify(x0 + zm1h * xp0)\n",
    "\n",
    "# Define the new angle of reflection\n",
    "xpm1h = 2*a1 - xp0"
   ]
  },
  {
   "cell_type": "markdown",
   "metadata": {},
   "source": [
    "And then to view the resulting equations"
   ]
  },
  {
   "cell_type": "code",
   "execution_count": 9,
   "metadata": {
    "collapsed": false
   },
   "outputs": [
    {
     "data": {
      "image/png": "[encoded data removed]",
      "text/latex": [
       "$$x_{M1H} = \\frac{1}{\\alpha_{M1H} - x^{'}_{0}} \\left(x^{'}_{0} \\left(- D^{x}_{M1H} + D^{z}_{M1H} \\alpha_{M1H} + x_{0}\\right) + x_{0} \\left(\\alpha_{M1H} - x^{'}_{0}\\right)\\right)$$"
      ],
      "text/plain": [
       "        x_0__'⋅(-D_M1H__x + D_M1H__z⋅α_M1H + x₀) + x₀⋅(α_M1H - x_0__')\n",
       "x_M1H = ──────────────────────────────────────────────────────────────\n",
       "                                α_M1H - x_0__'                        "
      ]
     },
     "execution_count": 9,
     "metadata": {},
     "output_type": "execute_result"
    }
   ],
   "source": [
    "# X Position of the beam at the point of reflection on M1H\n",
    "sp.relational.Eq(sp.symbols(\"x_M1H\"), xm1h)"
   ]
  },
  {
   "cell_type": "code",
   "execution_count": 10,
   "metadata": {
    "collapsed": false
   },
   "outputs": [
    {
     "data": {
      "image/png": "[encoded data removed]",
      "text/latex": [
       "$$z_{M1H} = \\frac{1}{\\alpha_{M1H} - x^{'}_{0}} \\left(- D^{x}_{M1H} + D^{z}_{M1H} \\alpha_{M1H} + x_{0}\\right)$$"
      ],
      "text/plain": [
       "        -D_M1H__x + D_M1H__z⋅α_M1H + x₀\n",
       "z_M1H = ───────────────────────────────\n",
       "                 α_M1H - x_0__'        "
      ]
     },
     "execution_count": 10,
     "metadata": {},
     "output_type": "execute_result"
    }
   ],
   "source": [
    "# Z Position of the beam at the point of reflection on M1H\n",
    "sp.relational.Eq(sp.symbols(\"z_M1H\"), zm1h)"
   ]
  },
  {
   "cell_type": "code",
   "execution_count": 11,
   "metadata": {
    "collapsed": false
   },
   "outputs": [
    {
     "data": {
      "image/png": "[encoded data removed]",
      "text/latex": [
       "$$x^{'}_{M1H} = 2 \\alpha_{M1H} - x^{'}_{0}$$"
      ],
      "text/plain": [
       "x_M1H__' = 2⋅α_M1H - x_0__'"
      ]
     },
     "execution_count": 11,
     "metadata": {},
     "output_type": "execute_result"
    }
   ],
   "source": [
    "# New angle after reflection off M1H\n",
    "sp.relational.Eq(sp.symbols(\"x^'_M1H\"), xpm1h)"
   ]
  },
  {
   "cell_type": "markdown",
   "metadata": {},
   "source": [
    "## P2H\n",
    "\n",
    "The same method that was applied to get P1H is reapplied here but using the X, Z and angle of the beam from M1H"
   ]
  },
  {
   "cell_type": "code",
   "execution_count": 12,
   "metadata": {
    "collapsed": false
   },
   "outputs": [],
   "source": [
    "# X position follows the line eq but using x position at m1h and new angle\n",
    "xp2h_eq = xm1h + xpm1h * (dp2hz-dm1hz)\n",
    "\n",
    "# Simplify\n",
    "xp2h = sp.simplify(xp2h_eq)\n",
    "\n",
    "# Z position is just the defined z position of the imager\n",
    "zp2h = dp2hz\n",
    "\n",
    "# Angle of the beam isn't changing from M1H\n",
    "xpp2h = xpm1h"
   ]
  },
  {
   "cell_type": "markdown",
   "metadata": {},
   "source": [
    "And then viewing the results"
   ]
  },
  {
   "cell_type": "code",
   "execution_count": 13,
   "metadata": {
    "collapsed": false
   },
   "outputs": [
    {
     "data": {
      "image/png": "[encoded data removed]",
      "text/latex": [
       "$$x_{P2H} = \\frac{1}{\\alpha_{M1H} - x^{'}_{0}} \\left(x^{'}_{0} \\left(- D^{x}_{M1H} + D^{z}_{M1H} \\alpha_{M1H} + x_{0}\\right) + x_{0} \\left(\\alpha_{M1H} - x^{'}_{0}\\right) - \\left(D^{z}_{M1H} - D^{z}_{P2H}\\right) \\left(\\alpha_{M1H} - x^{'}_{0}\\right) \\left(2 \\alpha_{M1H} - x^{'}_{0}\\right)\\right)$$"
      ],
      "text/plain": [
       "        x_0__'⋅(-D_M1H__x + D_M1H__z⋅α_M1H + x₀) + x₀⋅(α_M1H - x_0__') - (D_M1\n",
       "x_P2H = ──────────────────────────────────────────────────────────────────────\n",
       "                                                              α_M1H - x_0__'  \n",
       "\n",
       "H__z - D_P2H__z)⋅(α_M1H - x_0__')⋅(2⋅α_M1H - x_0__')\n",
       "────────────────────────────────────────────────────\n",
       "                                                    "
      ]
     },
     "execution_count": 13,
     "metadata": {},
     "output_type": "execute_result"
    }
   ],
   "source": [
    "# X Position of the beam as it crosses P2H\n",
    "sp.relational.Eq(sp.symbols(\"x_P2H\"), xp2h)"
   ]
  },
  {
   "cell_type": "code",
   "execution_count": 14,
   "metadata": {
    "collapsed": false
   },
   "outputs": [
    {
     "data": {
      "image/png": "[encoded data removed]",
      "text/latex": [
       "$$z_{P2H} = D^{z}_{P2H}$$"
      ],
      "text/plain": [
       "z_P2H = D_P2H__z"
      ]
     },
     "execution_count": 14,
     "metadata": {},
     "output_type": "execute_result"
    }
   ],
   "source": [
    "# Z Position of the beam is just the z position of the imager\n",
    "sp.relational.Eq(sp.symbols(\"z_P2H\"), zp2h)"
   ]
  },
  {
   "cell_type": "code",
   "execution_count": 15,
   "metadata": {
    "collapsed": false
   },
   "outputs": [
    {
     "data": {
      "image/png": "[encoded data removed]",
      "text/latex": [
       "$$x^{'}_{P2H} = 2 \\alpha_{M1H} - x^{'}_{0}$$"
      ],
      "text/plain": [
       "x_P2H__' = 2⋅α_M1H - x_0__'"
      ]
     },
     "execution_count": 15,
     "metadata": {},
     "output_type": "execute_result"
    }
   ],
   "source": [
    "# Angle of the beam is just the reflected angle off M1H\n",
    "sp.relational.Eq(sp.symbols(\"x^'_P2H\"), xpp2h)"
   ]
  },
  {
   "cell_type": "markdown",
   "metadata": {},
   "source": [
    "## M2H\n",
    "\n",
    "When on the second mirror we reapply the same method used for M1H but this time we need to solve for the equation of the beam using the point slope equation in addition to the mirror. The resulting line equations are then set to be equal to find the point of intersection."
   ]
  },
  {
   "cell_type": "code",
   "execution_count": 16,
   "metadata": {
    "collapsed": false
   },
   "outputs": [],
   "source": [
    "# Declare generic x and z variables to solve for\n",
    "x, z = sp.symbols(\"x z\")\n",
    "\n",
    "# Using point slope eq for a line to get line of M2H (point is dm2hz, m2hdx)\n",
    "m2h_ln = a2 * (z - dm2hz) + dm2hx - x\n",
    "\n",
    "# Solve for x and grab the only element in the solution\n",
    "m2h_ln_x = sp.solve(m2h_ln, x)[0]\n",
    "\n",
    "# Get the line eq for the beam using beam parameters from m1h in point slope\n",
    "beam_ln =  xpm1h*(z - zm1h) + xm1h - x\n",
    "\n",
    "# Solve for x and grab the only element in the returned solution list\n",
    "beam_ln_x = sp.solve(beam_ln, x)[0]\n",
    "\n",
    "# Set them equal to each other and move to one side then solve for z. Grab only resulting solution\n",
    "zm2h = sp.solve(m2h_ln_x - beam_ln_x, z)[0]\n",
    "\n",
    "# Substitute z intersection point into the eq for the beam line to get x point of intersection\n",
    "m2h_sub = beam_ln.subs(z, zm2h)\n",
    "\n",
    "# Solve for x and grab the only element\n",
    "xm2h = sp.solve(m2h_sub, x)[0]\n",
    "\n",
    "# Calculate the new reflection angle\n",
    "xpm2h = 2*a2 - xpm1h"
   ]
  },
  {
   "cell_type": "markdown",
   "metadata": {},
   "source": [
    "Let's see the resulting equations"
   ]
  },
  {
   "cell_type": "code",
   "execution_count": 17,
   "metadata": {
    "collapsed": false
   },
   "outputs": [
    {
     "data": {
      "image/png": "[encoded data removed]",
      "text/latex": [
       "$$x_{M2H} = \\frac{1}{2 \\alpha_{M1H} - \\alpha_{M2H} - x^{'}_{0}} \\left(- 2 D^{x}_{M1H} \\alpha_{M2H} + 2 D^{x}_{M2H} \\alpha_{M1H} - D^{x}_{M2H} x^{'}_{0} + 2 D^{z}_{M1H} \\alpha_{M1H} \\alpha_{M2H} - 2 D^{z}_{M2H} \\alpha_{M1H} \\alpha_{M2H} + D^{z}_{M2H} \\alpha_{M2H} x^{'}_{0} + \\alpha_{M2H} x_{0}\\right)$$"
      ],
      "text/plain": [
       "        -2⋅D_M1H__x⋅α_M2H + 2⋅D_M2H__x⋅α_M1H - D_M2H__x⋅x_0__' + 2⋅D_M1H__z⋅α_\n",
       "x_M2H = ──────────────────────────────────────────────────────────────────────\n",
       "                                                                  2⋅α_M1H - α_\n",
       "\n",
       "M1H⋅α_M2H - 2⋅D_M2H__z⋅α_M1H⋅α_M2H + D_M2H__z⋅α_M2H⋅x_0__' + α_M2H⋅x₀\n",
       "─────────────────────────────────────────────────────────────────────\n",
       "M2H - x_0__'                                                         "
      ]
     },
     "execution_count": 17,
     "metadata": {},
     "output_type": "execute_result"
    }
   ],
   "source": [
    "# X Position of the beam at the point of reflection on M2H\n",
    "sp.relational.Eq(sp.symbols(\"x_M2H\"), xm2h)"
   ]
  },
  {
   "cell_type": "code",
   "execution_count": 18,
   "metadata": {
    "collapsed": false
   },
   "outputs": [
    {
     "data": {
      "image/png": "[encoded data removed]",
      "text/latex": [
       "$$z_{M2H} = \\frac{2 D^{x}_{M1H} - D^{x}_{M2H} - 2 D^{z}_{M1H} \\alpha_{M1H} + D^{z}_{M2H} \\alpha_{M2H} - x_{0}}{- 2 \\alpha_{M1H} + \\alpha_{M2H} + x^{'}_{0}}$$"
      ],
      "text/plain": [
       "        2⋅D_M1H__x - D_M2H__x - 2⋅D_M1H__z⋅α_M1H + D_M2H__z⋅α_M2H - x₀\n",
       "z_M2H = ──────────────────────────────────────────────────────────────\n",
       "                          -2⋅α_M1H + α_M2H + x_0__'                   "
      ]
     },
     "execution_count": 18,
     "metadata": {},
     "output_type": "execute_result"
    }
   ],
   "source": [
    "# Z Position of the beam at the point of reflection on M2H\n",
    "sp.relational.Eq(sp.symbols(\"z_M2H\"), zm2h)"
   ]
  },
  {
   "cell_type": "code",
   "execution_count": 19,
   "metadata": {
    "collapsed": false
   },
   "outputs": [
    {
     "data": {
      "image/png": "[encoded data removed]",
      "text/latex": [
       "$$x^{'}_{M2H} = - 2 \\alpha_{M1H} + 2 \\alpha_{M2H} + x^{'}_{0}$$"
      ],
      "text/plain": [
       "x_M2H__' = -2⋅α_M1H + 2⋅α_M2H + x_0__'"
      ]
     },
     "execution_count": 19,
     "metadata": {},
     "output_type": "execute_result"
    }
   ],
   "source": [
    "# New angle after reflection off M1H\n",
    "sp.relational.Eq(sp.symbols(\"x^'_M2H\"), xpm2h)"
   ]
  },
  {
   "cell_type": "markdown",
   "metadata": {},
   "source": [
    "## P3H\n",
    "\n",
    "Finding the equations for the beam after M2H is the same as for P2H just using the beam positions at M2H rather than M1H. From there the equation is just a difference of how far away you are in z."
   ]
  },
  {
   "cell_type": "code",
   "execution_count": 20,
   "metadata": {
    "collapsed": false
   },
   "outputs": [],
   "source": [
    "# X position follows the line eq but using x position at m2h and new angle\n",
    "xp3h_eq = xm2h + xpm2h*(dp3hz-dm2hz)\n",
    "\n",
    "# Simplify\n",
    "xp3h = sp.simplify(xp3h_eq)\n",
    "\n",
    "# Z position is just the defined z position of the imager\n",
    "zp3h = dp3hz\n",
    "\n",
    "# Angle doesn't change\n",
    "xpp3h = xpm2h"
   ]
  },
  {
   "cell_type": "markdown",
   "metadata": {},
   "source": [
    "Printing the resulting equations we get"
   ]
  },
  {
   "cell_type": "code",
   "execution_count": 21,
   "metadata": {
    "collapsed": false
   },
   "outputs": [
    {
     "data": {
      "image/png": "[encoded data removed]",
      "text/latex": [
       "$$x_{P3H} = \\frac{1}{- 2 \\alpha_{M1H} + \\alpha_{M2H} + x^{'}_{0}} \\left(2 D^{x}_{M1H} \\alpha_{M2H} - 2 D^{x}_{M2H} \\alpha_{M1H} + D^{x}_{M2H} x^{'}_{0} - 2 D^{z}_{M1H} \\alpha_{M1H} \\alpha_{M2H} + 2 D^{z}_{M2H} \\alpha_{M1H} \\alpha_{M2H} - D^{z}_{M2H} \\alpha_{M2H} x^{'}_{0} - \\alpha_{M2H} x_{0} - \\left(D^{z}_{M2H} - D^{z}_{P3H}\\right) \\left(- 2 \\alpha_{M1H} + \\alpha_{M2H} + x^{'}_{0}\\right) \\left(- 2 \\alpha_{M1H} + 2 \\alpha_{M2H} + x^{'}_{0}\\right)\\right)$$"
      ],
      "text/plain": [
       "        2⋅D_M1H__x⋅α_M2H - 2⋅D_M2H__x⋅α_M1H + D_M2H__x⋅x_0__' - 2⋅D_M1H__z⋅α_M\n",
       "x_P3H = ──────────────────────────────────────────────────────────────────────\n",
       "                                                                              \n",
       "\n",
       "1H⋅α_M2H + 2⋅D_M2H__z⋅α_M1H⋅α_M2H - D_M2H__z⋅α_M2H⋅x_0__' - α_M2H⋅x₀ - (D_M2H_\n",
       "──────────────────────────────────────────────────────────────────────────────\n",
       "                           -2⋅α_M1H + α_M2H + x_0__'                          \n",
       "\n",
       "_z - D_P3H__z)⋅(-2⋅α_M1H + α_M2H + x_0__')⋅(-2⋅α_M1H + 2⋅α_M2H + x_0__')\n",
       "────────────────────────────────────────────────────────────────────────\n",
       "                                                                        "
      ]
     },
     "execution_count": 21,
     "metadata": {},
     "output_type": "execute_result"
    }
   ],
   "source": [
    "# X Position of the beam at P3H\n",
    "sp.relational.Eq(sp.symbols(\"x_P3H\"), xp3h)"
   ]
  },
  {
   "cell_type": "code",
   "execution_count": 22,
   "metadata": {
    "collapsed": false
   },
   "outputs": [
    {
     "data": {
      "image/png": "[encoded data removed]",
      "text/latex": [
       "$$z_{P3H} = D^{z}_{P3H}$$"
      ],
      "text/plain": [
       "z_P3H = D_P3H__z"
      ]
     },
     "execution_count": 22,
     "metadata": {},
     "output_type": "execute_result"
    }
   ],
   "source": [
    "# Z Position of the beam is just the z position of the imager\n",
    "sp.relational.Eq(sp.symbols(\"z_P3H\"), zp3h)"
   ]
  },
  {
   "cell_type": "code",
   "execution_count": 23,
   "metadata": {
    "collapsed": false
   },
   "outputs": [
    {
     "data": {
      "image/png": "[encoded data removed]",
      "text/latex": [
       "$$x^{'}_{P3H} = - 2 \\alpha_{M1H} + 2 \\alpha_{M2H} + x^{'}_{0}$$"
      ],
      "text/plain": [
       "x_P3H__' = -2⋅α_M1H + 2⋅α_M2H + x_0__'"
      ]
     },
     "execution_count": 23,
     "metadata": {},
     "output_type": "execute_result"
    }
   ],
   "source": [
    "# Angle of the beam is just the reflected angle off M2H\n",
    "sp.relational.Eq(sp.symbols(\"x^'_P3H\"), xpp3h)"
   ]
  },
  {
   "cell_type": "markdown",
   "metadata": {},
   "source": [
    "## DG3\n",
    "\n",
    "The method and resulting equations for DG3 are identical to P3H just substituted with the positions of DG3."
   ]
  },
  {
   "cell_type": "code",
   "execution_count": 24,
   "metadata": {
    "collapsed": true
   },
   "outputs": [],
   "source": [
    "# X position follows the line eq but using x position at m2h and new angle\n",
    "xdg3_eq = xm2h + xpm2h*(ddg3z-dm2hz)\n",
    "\n",
    "# Simplify\n",
    "xdg3 = sp.simplify(xdg3_eq)\n",
    "\n",
    "# Z position is just the defined z position of the imager\n",
    "zdg3 = ddg3z\n",
    "\n",
    "# Angle doesn't change\n",
    "xpdg3 = xpm2h"
   ]
  },
  {
   "cell_type": "markdown",
   "metadata": {},
   "source": [
    "And the final resulting equations"
   ]
  },
  {
   "cell_type": "code",
   "execution_count": 25,
   "metadata": {
    "collapsed": false
   },
   "outputs": [
    {
     "data": {
      "image/png": "[encoded data removed]",
      "text/latex": [
       "$$x_{DG3} = \\frac{1}{- 2 \\alpha_{M1H} + \\alpha_{M2H} + x^{'}_{0}} \\left(2 D^{x}_{M1H} \\alpha_{M2H} - 2 D^{x}_{M2H} \\alpha_{M1H} + D^{x}_{M2H} x^{'}_{0} - 2 D^{z}_{M1H} \\alpha_{M1H} \\alpha_{M2H} + 2 D^{z}_{M2H} \\alpha_{M1H} \\alpha_{M2H} - D^{z}_{M2H} \\alpha_{M2H} x^{'}_{0} - \\alpha_{M2H} x_{0} + \\left(D^{z}_{DG3} - D^{z}_{M2H}\\right) \\left(- 2 \\alpha_{M1H} + \\alpha_{M2H} + x^{'}_{0}\\right) \\left(- 2 \\alpha_{M1H} + 2 \\alpha_{M2H} + x^{'}_{0}\\right)\\right)$$"
      ],
      "text/plain": [
       "        2⋅D_M1H__x⋅α_M2H - 2⋅D_M2H__x⋅α_M1H + D_M2H__x⋅x_0__' - 2⋅D_M1H__z⋅α_M\n",
       "x_DG3 = ──────────────────────────────────────────────────────────────────────\n",
       "                                                                              \n",
       "\n",
       "1H⋅α_M2H + 2⋅D_M2H__z⋅α_M1H⋅α_M2H - D_M2H__z⋅α_M2H⋅x_0__' - α_M2H⋅x₀ + (D_DG3_\n",
       "──────────────────────────────────────────────────────────────────────────────\n",
       "                           -2⋅α_M1H + α_M2H + x_0__'                          \n",
       "\n",
       "_z - D_M2H__z)⋅(-2⋅α_M1H + α_M2H + x_0__')⋅(-2⋅α_M1H + 2⋅α_M2H + x_0__')\n",
       "────────────────────────────────────────────────────────────────────────\n",
       "                                                                        "
      ]
     },
     "execution_count": 25,
     "metadata": {},
     "output_type": "execute_result"
    }
   ],
   "source": [
    "# X Position of the beam at DG3\n",
    "sp.relational.Eq(sp.symbols(\"x_DG3\"), xdg3)"
   ]
  },
  {
   "cell_type": "code",
   "execution_count": 26,
   "metadata": {
    "collapsed": false
   },
   "outputs": [
    {
     "data": {
      "image/png": "[encoded data removed]",
      "text/latex": [
       "$$z_{DG3} = D^{z}_{DG3}$$"
      ],
      "text/plain": [
       "z_DG3 = D_DG3__z"
      ]
     },
     "execution_count": 26,
     "metadata": {},
     "output_type": "execute_result"
    }
   ],
   "source": [
    "# Z Position of the beam is just the z position of the imager\n",
    "sp.relational.Eq(sp.symbols(\"z_DG3\"), zdg3)"
   ]
  },
  {
   "cell_type": "code",
   "execution_count": 27,
   "metadata": {
    "collapsed": false
   },
   "outputs": [
    {
     "data": {
      "image/png": "[encoded data removed]",
      "text/latex": [
       "$$x^{'}_{DG3} = - 2 \\alpha_{M1H} + 2 \\alpha_{M2H} + x^{'}_{0}$$"
      ],
      "text/plain": [
       "x_DG3__' = -2⋅α_M1H + 2⋅α_M2H + x_0__'"
      ]
     },
     "execution_count": 27,
     "metadata": {},
     "output_type": "execute_result"
    }
   ],
   "source": [
    "# Angle of the beam is just the reflected angle off M2H\n",
    "sp.relational.Eq(sp.symbols(\"x^'_DG3\"), xpdg3)"
   ]
  },
  {
   "cell_type": "markdown",
   "metadata": {},
   "source": [
    "# Walking the Beam\n",
    "\n",
    "Being able to fully characterize the beam at all points on the beamline, we can use them to apply the iterative beam walking algorithm (shown [here](http://laser.physics.sunysb.edu/~simone/mini-project/) and [here](https://virtualetters.blogspot.com/2012/07/walking-beam.html)) by solving the equations above for the mirror angles at the respective imagers. The algorithm calls for aligning the angle of the first mirror with respect to the desired point on the first imager and then the angle of the second mirror with respect to the desired point on the second imager. Repeating this sequence should converge to mirror angles that hit (or minimize the error) the desired two points.\n",
    "\n",
    "So to do this is relatively straight forward. We solve the equation for the X position at P3H for alpha 1, and then solve the equation for the X position at DG3 for alpha 2."
   ]
  },
  {
   "cell_type": "code",
   "execution_count": 28,
   "metadata": {
    "collapsed": false
   },
   "outputs": [],
   "source": [
    "# Declare a generic x position we want to hit\n",
    "x = sp.symbols(\"x\")\n",
    "\n",
    "# Move everything to one side and solve p3h x position for alpha 1\n",
    "p3h_alpha = sp.solve(xp3h - x, a1)\n",
    "\n",
    "# Move everything to one side and solve dg3 x position for alpha 2\n",
    "dg3_alpha = sp.solve(xdg3 - x, a2)"
   ]
  },
  {
   "cell_type": "markdown",
   "metadata": {},
   "source": [
    "Before trying to print these behemoths of solutions it should be noted that there are actually two solutions for each angle."
   ]
  },
  {
   "cell_type": "code",
   "execution_count": 29,
   "metadata": {
    "collapsed": false
   },
   "outputs": [
    {
     "name": "stdout",
     "output_type": "stream",
     "text": [
      "Number of solutions for Alpha 1: 2, Alpha 2: 2\n"
     ]
    }
   ],
   "source": [
    "print(\"Number of solutions for Alpha 1: {0}, Alpha 2: {1}\".format(len(p3h_alpha), len(dg3_alpha)))"
   ]
  },
  {
   "cell_type": "markdown",
   "metadata": {},
   "source": [
    "This implies the equation was quadratic in terms of alpha and we would need to choose the correct solution of the two. To find the solutions we want, we can evaluate each of the expressions using known inputs to see which ones return the expected outputs.\n",
    "\n",
    "In this case we can input the positions of all the beamline components at their nominal positions and see which solution also returns the mirror in its nominal position. So first let us see what variables are used in each of the equations."
   ]
  },
  {
   "cell_type": "code",
   "execution_count": 30,
   "metadata": {
    "collapsed": false
   },
   "outputs": [
    {
     "name": "stdout",
     "output_type": "stream",
     "text": [
      "Alpha 1 variables: {x, alpha_M2H, x_0, D^z_M2H, D^z_P3H, D^x_M2H, x^'_0, D^x_M1H, D^z_M1H}\n",
      "Alpha 2 variables: {x, x_0, D^z_M2H, D^z_DG3, D^x_M2H, x^'_0, D^x_M1H, D^z_M1H, alpha_M1H}\n"
     ]
    }
   ],
   "source": [
    "alpha_1_vars = p3h_alpha[0].free_symbols\n",
    "alpha_2_vars = dg3_alpha[0].free_symbols\n",
    "\n",
    "print(\"Alpha 1 variables: {0}\".format(alpha_1_vars))\n",
    "print(\"Alpha 2 variables: {0}\".format(alpha_2_vars))"
   ]
  },
  {
   "cell_type": "markdown",
   "metadata": {},
   "source": [
    "Using this, we can build a dictionary containing the mapping from each symbol to their respective value and then pass it into the subs method to evaluate the expression."
   ]
  },
  {
   "cell_type": "code",
   "execution_count": 35,
   "metadata": {
    "collapsed": false
   },
   "outputs": [
    {
     "name": "stdout",
     "output_type": "stream",
     "text": [
      "Solutions for alpha 1:\n",
      "  Solution 1: 0.00139999684686977\n",
      "  Solution 2: -0.00366603977477292\n",
      "\n",
      "Solutions for alpha 2:\n",
      "  Solution 1: 0.00140000015179419\n",
      "  Solution 2: 0.00279999969641165\n"
     ]
    }
   ],
   "source": [
    "# Dictionary of all the relevant inputs\n",
    "var_dict = {a1:0.0014, a2:0.0014, dp3hz:103.660, dm2hx:0.031732317072726328,\n",
    "            x:0.031732317072726328, dm1hx:0, x0:0, xp0:0, dm2hz:101.843,\n",
    "            dm1hz:90.510, ddg3z:375.0, dp2hz:100.828}\n",
    "\n",
    "print(\"Solutions for alpha 1:\")\n",
    "for i, sol in enumerate(p3h_alpha):\n",
    "    val = sol.subs(var_dict)\n",
    "    print(\"  Solution {0}: {1}\".format(i+1, val))\n",
    "    \n",
    "print(\"\\nSolutions for alpha 2:\")\n",
    "for i, sol in enumerate(dg3_alpha):\n",
    "    val = sol.subs(var_dict)\n",
    "    print(\"  Solution {0}: {1}\".format(i+1, val))"
   ]
  },
  {
   "cell_type": "markdown",
   "metadata": {},
   "source": [
    "For both setups the expected result is 0.0014 radians so we now know the equations we want are at index 0 for both alpha 1 and alpha 2. \n",
    "\n",
    "Actually printing the equations can a be a bit tricky because the equations exceed the default buffer size for mathjax and it has issues rendering a double exponenent. I used [this](https://stackoverflow.com/questions/22751772/mathjax-in-ipython-notebook-fails-for-fairly-large-equations) stackoverflow page to remedy the first part, and for the second I just entered brakets manually before printing them.\n",
    "\n",
    "So I first printed alpha 1 in latex syntax using the sympy latex function."
   ]
  },
  {
   "cell_type": "code",
   "execution_count": 32,
   "metadata": {
    "collapsed": false
   },
   "outputs": [
    {
     "name": "stdout",
     "output_type": "stream",
     "text": [
      "\\frac{1}{4 D^{z}_{M2H} - 4 D^{z}_{P3H}} \\left(- D^{x}_{M2H} - D^{z}_{M1H} \\alpha_{M2H} + 4 D^{z}_{M2H} \\alpha_{M2H} + 2 D^{z}_{M2H} x^{'}_{0} - 3 D^{z}_{P3H} \\alpha_{M2H} - 2 D^{z}_{P3H} x^{'}_{0} + x - \\sqrt{8 D^{x}_{M1H} D^{z}_{M2H} \\alpha_{M2H} - 8 D^{x}_{M1H} D^{z}_{P3H} \\alpha_{M2H} + D^{x}_{M2H}^{2} + 2 D^{x}_{M2H} D^{z}_{M1H} \\alpha_{M2H} - 8 D^{x}_{M2H} D^{z}_{M2H} \\alpha_{M2H} + 6 D^{x}_{M2H} D^{z}_{P3H} \\alpha_{M2H} - 2 D^{x}_{M2H} x + D^{z}_{M1H}^{2} \\alpha_{M2H}^{2} - 8 D^{z}_{M1H} D^{z}_{M2H} \\alpha_{M2H}^{2} - 4 D^{z}_{M1H} D^{z}_{M2H} \\alpha_{M2H} x^{'}_{0} + 6 D^{z}_{M1H} D^{z}_{P3H} \\alpha_{M2H}^{2} + 4 D^{z}_{M1H} D^{z}_{P3H} \\alpha_{M2H} x^{'}_{0} - 2 D^{z}_{M1H} \\alpha_{M2H} x + 8 D^{z}_{M2H}^{2} \\alpha_{M2H}^{2} - 8 D^{z}_{M2H} D^{z}_{P3H} \\alpha_{M2H}^{2} + 4 D^{z}_{M2H} \\alpha_{M2H} x - 4 D^{z}_{M2H} \\alpha_{M2H} x_{0} + D^{z}_{P3H}^{2} \\alpha_{M2H}^{2} - 2 D^{z}_{P3H} \\alpha_{M2H} x + 4 D^{z}_{P3H} \\alpha_{M2H} x_{0} + x^{2}}\\right)\n"
     ]
    }
   ],
   "source": [
    "print(sp.printing.latex(p3h_alpha[0]))"
   ]
  },
  {
   "cell_type": "markdown",
   "metadata": {},
   "source": [
    "Then did the same thing for alpha 2."
   ]
  },
  {
   "cell_type": "code",
   "execution_count": 33,
   "metadata": {
    "collapsed": false
   },
   "outputs": [
    {
     "name": "stdout",
     "output_type": "stream",
     "text": [
      "\\frac{1}{4 D^{z}_{DG3} - 4 D^{z}_{M2H}} \\left(- 2 D^{x}_{M1H} + 6 D^{z}_{DG3} \\alpha_{M1H} - 3 D^{z}_{DG3} x^{'}_{0} + 2 D^{z}_{M1H} \\alpha_{M1H} - 8 D^{z}_{M2H} \\alpha_{M1H} + 4 D^{z}_{M2H} x^{'}_{0} + x + x_{0} - \\sqrt{4 D^{x}_{M1H}^{2} - 24 D^{x}_{M1H} D^{z}_{DG3} \\alpha_{M1H} + 12 D^{x}_{M1H} D^{z}_{DG3} x^{'}_{0} - 8 D^{x}_{M1H} D^{z}_{M1H} \\alpha_{M1H} + 32 D^{x}_{M1H} D^{z}_{M2H} \\alpha_{M1H} - 16 D^{x}_{M1H} D^{z}_{M2H} x^{'}_{0} - 4 D^{x}_{M1H} x - 4 D^{x}_{M1H} x_{0} + 16 D^{x}_{M2H} D^{z}_{DG3} \\alpha_{M1H} - 8 D^{x}_{M2H} D^{z}_{DG3} x^{'}_{0} - 16 D^{x}_{M2H} D^{z}_{M2H} \\alpha_{M1H} + 8 D^{x}_{M2H} D^{z}_{M2H} x^{'}_{0} + 4 D^{z}_{DG3}^{2} \\alpha_{M1H}^{2} - 4 D^{z}_{DG3}^{2} \\alpha_{M1H} x^{'}_{0} + D^{z}_{DG3}^{2} x^{'}_{0}^{2} + 24 D^{z}_{DG3} D^{z}_{M1H} \\alpha_{M1H}^{2} - 12 D^{z}_{DG3} D^{z}_{M1H} \\alpha_{M1H} x^{'}_{0} - 32 D^{z}_{DG3} D^{z}_{M2H} \\alpha_{M1H}^{2} + 32 D^{z}_{DG3} D^{z}_{M2H} \\alpha_{M1H} x^{'}_{0} - 8 D^{z}_{DG3} D^{z}_{M2H} x^{'}_{0}^{2} - 4 D^{z}_{DG3} \\alpha_{M1H} x + 12 D^{z}_{DG3} \\alpha_{M1H} x_{0} + 2 D^{z}_{DG3} x x^{'}_{0} - 6 D^{z}_{DG3} x^{'}_{0} x_{0} + 4 D^{z}_{M1H}^{2} \\alpha_{M1H}^{2} - 32 D^{z}_{M1H} D^{z}_{M2H} \\alpha_{M1H}^{2} + 16 D^{z}_{M1H} D^{z}_{M2H} \\alpha_{M1H} x^{'}_{0} + 4 D^{z}_{M1H} \\alpha_{M1H} x + 4 D^{z}_{M1H} \\alpha_{M1H} x_{0} + 32 D^{z}_{M2H}^{2} \\alpha_{M1H}^{2} - 32 D^{z}_{M2H}^{2} \\alpha_{M1H} x^{'}_{0} + 8 D^{z}_{M2H}^{2} x^{'}_{0}^{2} - 16 D^{z}_{M2H} \\alpha_{M1H} x_{0} + 8 D^{z}_{M2H} x^{'}_{0} x_{0} + x^{2} + 2 x x_{0} + x_{0}^{2}}\\right)\n"
     ]
    }
   ],
   "source": [
    "print(sp.printing.latex(dg3_alpha[0]))"
   ]
  },
  {
   "cell_type": "markdown",
   "metadata": {},
   "source": [
    "And then from here I copied the equations into this cell and searched for where there were double exponents and corrected for them. Below is the result for alpha 1:\n",
    "\n",
    "$$\\frac{1}{4 D^{z}_{M2H} - 4 D^{z}_{P3H}} \\left(- D^{x}_{M1H} \\alpha_{M2H} - D^{x}_{M2H} + 4 D^{z}_{M2H} \n",
    "\\alpha_{M2H} + 2 D^{z}_{M2H} x^{'}_{0} - 3 D^{z}_{P3H} \\alpha_{M2H} - 2 D^{z}_{P3H} x^{'}_{0} + x - \n",
    "\\sqrt{{D^{x}_{M1H}}^{2} \\alpha_{M2H}^{2} + 2 D^{x}_{M1H} D^{x}_{M2H} \\alpha_{M2H} - 8 D^{x}_{M1H} D^{z}_{M2H} \\alpha_{M2H}^{2} - 4 D^{x}_{M1H} D^{z}_{M2H} \\alpha_{M2H} x^{'}_{0} + 8 D^{x}_{M1H} D^{z}_{M2H} \\alpha_{M2H} + 6 D^{x}_{M1H} D^{z}_{P3H} \\alpha_{M2H}^{2} + 4 D^{x}_{M1H} D^{z}_{P3H} \\alpha_{M2H} x^{'}_{0} - 8 D^{x}_{M1H} D^{z}_{P3H} \\alpha_{M2H} - 2 D^{x}_{M1H} \\alpha_{M2H} x + {D^{x}_{M2H}}^{2} - 8 D^{x}_{M2H} D^{z}_{M2H} \\alpha_{M2H} + 6 D^{x}_{M2H} D^{z}_{P3H} \\alpha_{M2H} - 2 D^{x}_{M2H} x + 8 {D^{z}_{M2H}}^{2} \\alpha_{M2H}^{2} - 8 D^{z}_{M2H} D^{z}_{P3H} \\alpha_{M2H}^{2} + 4 D^{z}_{M2H} \\alpha_{M2H} x - 4 D^{z}_{M2H} \\alpha_{M2H} x_{0} + {D^{z}_{P3H}}^{2} \\alpha_{M2H}^{2} - 2 D^{z}_{P3H} \\alpha_{M2H} x + 4 D^{z}_{P3H} \\alpha_{M2H} x_{0} + x^{2}}\\right)$$"
   ]
  },
  {
   "cell_type": "markdown",
   "metadata": {},
   "source": [
    "And this is the result for alpha 2:\n",
    "\n",
    "$$\\frac{1}{4 D^{z}_{DG3} - 4 D^{z}_{M2H}} \\left(- 2 D^{x}_{M1H} + 6 D^{z}_{DG3} \\alpha_{M1H} - 3 D^{z}_{DG3} x^{'}_{0} + 2 D^{z}_{M1H} \\alpha_{M1H} - 8 D^{z}_{M2H} \\alpha_{M1H} + 4 D^{z}_{M2H} x^{'}_{0} + x + x_{0} - \\sqrt{4 {D^{x}_{M1H}}^{2} - 24 D^{x}_{M1H} D^{z}_{DG3} \\alpha_{M1H} + 12 D^{x}_{M1H} D^{z}_{DG3} x^{'}_{0} - 8 D^{x}_{M1H} D^{z}_{M1H} \\alpha_{M1H} + 32 D^{x}_{M1H} D^{z}_{M2H} \\alpha_{M1H} - 16 D^{x}_{M1H} D^{z}_{M2H} x^{'}_{0} - 4 D^{x}_{M1H} x - 4 D^{x}_{M1H} x_{0} + 16 D^{x}_{M2H} D^{z}_{DG3} \\alpha_{M1H} - 8 D^{x}_{M2H} D^{z}_{DG3} x^{'}_{0} - 16 D^{x}_{M2H} D^{z}_{M2H} \\alpha_{M1H} + 8 D^{x}_{M2H} D^{z}_{M2H} x^{'}_{0} + 4 {D^{z}_{DG3}}^{2} \\alpha_{M1H}^{2} - 4 {D^{z}_{DG3}}^{2} \\alpha_{M1H} x^{'}_{0} + {D^{z}_{DG3}}^{2} {x^{'}_{0}}^{2} + 24 D^{z}_{DG3} D^{z}_{M1H} \\alpha_{M1H}^{2} - 12 D^{z}_{DG3} D^{z}_{M1H} \\alpha_{M1H} x^{'}_{0} - 32 D^{z}_{DG3} D^{z}_{M2H} \\alpha_{M1H}^{2} + 32 D^{z}_{DG3} D^{z}_{M2H} \\alpha_{M1H} x^{'}_{0} - 8 D^{z}_{DG3} D^{z}_{M2H} {x^{'}_{0}}^{2} - 4 D^{z}_{DG3} \\alpha_{M1H} x + 12 D^{z}_{DG3} \\alpha_{M1H} x_{0} + 2 D^{z}_{DG3} x x^{'}_{0} - 6 D^{z}_{DG3} x^{'}_{0} x_{0} + 4 {D^{z}_{M1H}}^{2} \\alpha_{M1H}^{2} - 32 D^{z}_{M1H} D^{z}_{M2H} \\alpha_{M1H}^{2} + 16 D^{z}_{M1H} D^{z}_{M2H} \\alpha_{M1H} x^{'}_{0} + 4 D^{z}_{M1H} \\alpha_{M1H} x + 4 D^{z}_{M1H} \\alpha_{M1H} x_{0} + 32 {D^{z}_{M2H}}^{2} \\alpha_{M1H}^{2} - 32 {D^{z}_{M2H}}^{2} \\alpha_{M1H} x^{'}_{0} + 8 {D^{z}_{M2H}}^{2} {x^{'}_{0}}^{2} - 16 D^{z}_{M2H} \\alpha_{M1H} x_{0} + 8 D^{z}_{M2H} x^{'}_{0} x_{0} + x^{2} + 2 x x_{0} + x_{0}^{2}}\\right)$$"
   ]
  },
  {
   "cell_type": "markdown",
   "metadata": {},
   "source": [
    "**NOTE:** Sympy can rearrange the variables differently depending on the variable names and can result in different forms of the same equation. For the case of solving for alpha 2, found that for certain variable names the correct root was actually the second one."
   ]
  }
 ],
 "metadata": {
  "anaconda-cloud": {},
  "kernelspec": {
   "display_name": "Python [conda root]",
   "language": "python",
   "name": "conda-root-py"
  },
  "language_info": {
   "codemirror_mode": {
    "name": "ipython",
    "version": 3
   },
   "file_extension": ".py",
   "mimetype": "text/x-python",
   "name": "python",
   "nbconvert_exporter": "python",
   "pygments_lexer": "ipython3",
   "version": "3.5.2"
  }
 },
 "nbformat": 4,
 "nbformat_minor": 1
}
